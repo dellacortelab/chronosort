"""
Generate porcupine plots for all protein targets
"""

import numpy as np
import os

def parse_eigenvectors_flexible(filename):
    """Parse eigenvector file - handles both AF3 and MD formats"""
    pcs = {}
    current_pc = None
    vectors = []
    
    with open(filename, 'r') as f:
        for line in f:
            line = line.strip()
            if line.startswith('PC'):
                # Save previous PC if exists
                if current_pc is not None and vectors:
                    pcs[current_pc] = np.array(vectors)
                
                # Extract PC number
                parts = line.split()
                current_pc = int(parts[0][2:])
                
                # Extract eigenvalue from various formats
                eigenvalue = 0.0
                try:
                    if 'eigenvalue=' in line:
                        # Format: PC1 eigenvalue=304.514825 total=...
                        eigenvalue_part = line.split('eigenvalue=')[1]
                        if ' ' in eigenvalue_part:
                            eigenvalue = float(eigenvalue_part.split(' ')[0])
                        else:
                            eigenvalue = float(eigenvalue_part)
                    elif '(eigenvalue=' in line:
                        # Format: PC1 atom displacements (eigenvalue=24205.050128510346):
                        eigenvalue_part = line.split('(eigenvalue=')[1]
                        eigenvalue_str = eigenvalue_part.replace('):', '').replace(')', '')
                        eigenvalue = float(eigenvalue_str)
                except (ValueError, IndexError) as e:
                    eigenvalue = 0.0
                
                print(f"Found {parts[0]} with eigenvalue {eigenvalue}")
                vectors = []
            else:
                # Skip lines that don't contain numeric data
                if line and not any(word in line.lower() for word in ['total', 'atom', 'displacements']):
                    try:
                        components = [float(x) for x in line.split()]
                        if len(components) == 3:  # Ensure we have x,y,z components
                            vectors.append(components)
                    except ValueError:
                        # Skip lines that can't be converted to float
                        continue
    
    # Don't forget the last PC
    if current_pc is not None and vectors:
        pcs[current_pc] = np.array(vectors)
    
    return pcs

def extract_ca_coordinates(pdb_file, target_chain='A'):
    """Extract CA atom coordinates from specific chain"""
    coords = []
    chain_ids = []
    residue_nums = []
    
    with open(pdb_file, 'r') as f:
        for line in f:
            if line.startswith('ATOM') and line[12:16].strip() == 'CA' and line[21:22].strip() == target_chain:
                x = float(line[30:38])
                y = float(line[38:46])
                z = float(line[46:54])
                coords.append([x, y, z])
                chain_ids.append(target_chain)
                residue_nums.append(int(line[22:26].strip()))
    
    return np.array(coords), chain_ids, residue_nums

def write_dual_vector_bild_cones(output_file, pdb_file, coords, vectors1, vectors2, 
                                scale=8.0, color1="red", color2="blue", 
                                label1="AF3", label2="MD"):
    """Write BILD format with two vector sets using cone arrowheads"""
    
    bild_file = output_file.replace('.cxc', '.bild')
    
    with open(bild_file, 'w') as f:
        f.write("# BILD format for ChimeraX dual porcupine plot\n")
        f.write(f"# {label1} vectors in {color1}, {label2} vectors in {color2}\n")
        
        f.write(f".color {color1}\n")
        min_cone_length = 1.0  # Minimum cone length in Angstroms
        
        for coord, vec in zip(coords, vectors1):
            vec_scaled = vec * scale
            vec_magnitude = np.linalg.norm(vec_scaled)
            
            # Calculate cone length (minimum 15% of vector or min_cone_length, whichever is larger)
            cone_length = max(vec_magnitude * 0.15, min_cone_length)
            
            # Adjust cylinder and cone positioning based on cone length
            if vec_magnitude > cone_length:
                cylinder_ratio = (vec_magnitude - cone_length) / vec_magnitude
                cylinder_end = coord + vec_scaled * cylinder_ratio
            else:
                # For very short vectors, make cylinder very short
                cylinder_ratio = 0.3
                cylinder_end = coord + vec_scaled * cylinder_ratio
            
            cone_end = coord + vec_scaled
            
            f.write(f".cylinder {coord[0]:.3f} {coord[1]:.3f} {coord[2]:.3f} ")
            f.write(f"{cylinder_end[0]:.3f} {cylinder_end[1]:.3f} {cylinder_end[2]:.3f} 0.08\n")
            
            f.write(f".cone {cylinder_end[0]:.3f} {cylinder_end[1]:.3f} {cylinder_end[2]:.3f} ")
            f.write(f"{cone_end[0]:.3f} {cone_end[1]:.3f} {cone_end[2]:.3f} 0.24\n")
        
        f.write(f"\n.color {color2}\n")
        offset = 0.3
        for coord, vec in zip(coords, vectors2):
            vec_scaled = vec * scale
            vec_magnitude = np.linalg.norm(vec_scaled)
            offset_coord = coord + np.array([offset, 0, 0])
            
            # Calculate cone length (minimum 15% of vector or min_cone_length, whichever is larger)
            cone_length = max(vec_magnitude * 0.15, min_cone_length)
            
            # Adjust cylinder and cone positioning based on cone length
            if vec_magnitude > cone_length:
                cylinder_ratio = (vec_magnitude - cone_length) / vec_magnitude
                cylinder_end = offset_coord + vec_scaled * cylinder_ratio
            else:
                # For very short vectors, make cylinder very short
                cylinder_ratio = 0.3
                cylinder_end = offset_coord + vec_scaled * cylinder_ratio
                
            cone_end = offset_coord + vec_scaled
            
            f.write(f".cylinder {offset_coord[0]:.3f} {offset_coord[1]:.3f} {offset_coord[2]:.3f} ")
            f.write(f"{cylinder_end[0]:.3f} {cylinder_end[1]:.3f} {cylinder_end[2]:.3f} 0.08\n")
            
            f.write(f".cone {cylinder_end[0]:.3f} {cylinder_end[1]:.3f} {cylinder_end[2]:.3f} ")
            f.write(f"{cone_end[0]:.3f} {cone_end[1]:.3f} {cone_end[2]:.3f} 0.24\n")
    
    with open(output_file, 'w') as f:
        f.write(f"# ChimeraX dual porcupine plot: {label1} vs {label2}\n")
        f.write(f"# {label1} ({color1}) vs {label2} ({color2})\n\n")
        
        f.write(f"open {pdb_file}\n")
        f.write("cartoon\n")
        f.write("color white\n")
        f.write("hide atoms\n")
        f.write("graphics silhouettes on\n")
        f.write("preset 'Publication 1 (silhouettes)'\n\n")
        
        f.write(f"open {bild_file}\n")
        f.write("view\n")
        f.write(f"# Legend: {color1}={label1}, {color2}={label2}\n")
    
    return bild_file

# Define protein targets with specific PC usage
proteins = {
    "ak": {
        "pdb_id": "4AKE",
        "pdb_file": "4ake.pdb",
        "chain": "A", 
        "af_file": "final_data/ak_af_eigen.txt",
        "md_file": "final_data/ak_md_run1_final_eigen.txt",
        "description": "Adenylate Kinase",
        "af_pcs": [1, 2, 3],  # Use first 3 AF PCs
        "md_pcs": [1]         # Use only first MD PC
    },
    "lipa": {
        "pdb_id": "1EX9",
        "pdb_file": "1ex9.pdb", 
        "chain": "A",
        "af_file": "final_data/lipa_af_eigen.txt", 
        "md_file": "final_data/lipa_md_run1_final_eigen.txt",
        "description": "Bacterial Lipase A",
        "af_pcs": [1],        # Use only first AF PC
        "md_pcs": [1]         # Use only first MD PC
    },
    "hiv": {
        "pdb_id": "1HPV",
        "pdb_file": "1hpv.pdb",
        "chain": "A",
        "af_file": "final_data/hiv_af_eigen.txt",
        "md_file": "final_data/hiv_md_run1_final_eigen.txt", 
        "description": "HIV-1 Protease",
        "af_pcs": [1, 2],     # Use first 2 AF PCs
        "md_pcs": [1]         # Use only first MD PC
    },
    "onc": {
        "pdb_id": "1ONC", 
        "pdb_file": "1onc.pdb",
        "chain": "A",
        "af_file": "final_data/onc_af_eigen.txt",
        "md_file": "final_data/onc_md_run1_final_eigen.txt",
        "description": "Onconase",
        "af_pcs": [1, 2, 3],  # Use first 3 AF PCs
        "md_pcs": [1]         # Use only first MD PC
    }
}

print("🧬 Multi-Protein Porcupine Plot Generator")
print("=" * 50)

for protein_key, protein_info in proteins.items():
    print(f"\n🎯 Processing {protein_key.upper()}: {protein_info['description']}")
    print("-" * 60)
    
    try:
        # Extract coordinates
        coords, chain_ids, residue_nums = extract_ca_coordinates(protein_info['pdb_file'], protein_info['chain'])
        print(f"✓ Extracted {len(coords)} CA coordinates from chain {protein_info['chain']}")
        
        # Load AF3 eigenvectors with specified PCs
        if os.path.exists(protein_info['af_file']):
            print(f"📊 Loading AF3 eigenvectors from {protein_info['af_file']}...")
            af_pcs = parse_eigenvectors_flexible(protein_info['af_file'])
            
            # Use only the specified AF PCs
            af_pcs_to_use = protein_info['af_pcs']
            available_af_pcs = []
            
            for pc_num in af_pcs_to_use:
                if pc_num in af_pcs:
                    available_af_pcs.append(af_pcs[pc_num])
                    print(f"  ✓ AF3 PC{pc_num} selected: {af_pcs[pc_num].shape}")
                else:
                    print(f"  ❌ AF3 PC{pc_num} missing (required)")
                    continue
            
            if len(available_af_pcs) == 0:
                print(f"❌ No required AF3 PCs found")
                continue
            
            # Combine specified PCs
            combined_af_ev = available_af_pcs[0].copy()
            for i in range(1, len(available_af_pcs)):
                combined_af_ev = combined_af_ev + available_af_pcs[i]
            
            print(f"✓ AF3 combined PCs {af_pcs_to_use}, shape: {combined_af_ev.shape}")
        else:
            print(f"❌ AF3 file not found: {protein_info['af_file']}")
            continue
            
        # Load MD eigenvectors with specified PCs
        if os.path.exists(protein_info['md_file']):
            print(f"📊 Loading MD eigenvectors from {protein_info['md_file']}...")
            md_pcs = parse_eigenvectors_flexible(protein_info['md_file'])
            
            # Use only the specified MD PCs
            md_pcs_to_use = protein_info['md_pcs']
            available_md_pcs = []
            
            for pc_num in md_pcs_to_use:
                if pc_num in md_pcs:
                    available_md_pcs.append(md_pcs[pc_num])
                    print(f"  ✓ MD PC{pc_num} selected: {md_pcs[pc_num].shape}")
                else:
                    print(f"  ❌ MD PC{pc_num} missing (required)")
                    continue
            
            if len(available_md_pcs) == 0:
                print(f"❌ No required MD PCs found")
                continue
            
            # Combine specified PCs
            combined_md_ev = available_md_pcs[0].copy()
            for i in range(1, len(available_md_pcs)):
                combined_md_ev = combined_md_ev + available_md_pcs[i]
                
            print(f"✓ MD combined PCs {md_pcs_to_use}, shape: {combined_md_ev.shape}")
        else:
            print(f"❌ MD file not found: {protein_info['md_file']}")
            continue
            
        # Check size compatibility
        min_size = min(len(coords), len(combined_af_ev), len(combined_md_ev))
        if len(coords) != len(combined_af_ev) or len(coords) != len(combined_md_ev):
            print(f"⚠️  Size mismatch - PDB: {len(coords)}, AF3: {len(combined_af_ev)}, MD: {len(combined_md_ev)}")
            print(f"🔧 Truncating all to minimum size: {min_size}")
            coords_truncated = coords[:min_size]
            combined_af_ev = combined_af_ev[:min_size]
            combined_md_ev = combined_md_ev[:min_size]
        else:
            coords_truncated = coords
            print(f"✓ All datasets match: {len(coords)} atoms")
        
        # Generate porcupine plot
        output_file = f"{protein_key}_af3_vs_md_cones.cxc"
        bild_file = write_dual_vector_bild_cones(
            output_file, protein_info['pdb_file'], coords_truncated,
            combined_af_ev, combined_md_ev,
            scale=16.0, color1="red", color2="blue", 
            label1="AF3", label2="MD"
        )
        
        # Calculate magnitude comparison
        af3_magnitude = np.mean(np.linalg.norm(combined_af_ev, axis=1))
        md_magnitude = np.mean(np.linalg.norm(combined_md_ev, axis=1))
        ratio = md_magnitude / af3_magnitude
        
        print(f"✓ Created: {output_file}")
        print(f"✓ Data: {bild_file}")
        print(f"📈 MD/AF3 magnitude ratio: {ratio:.2f}x")
        
    except Exception as e:
        print(f"❌ Error processing {protein_key}: {str(e)}")
        continue

print(f"\n🎉 Multi-protein processing complete!")
print(f"📁 Generated cone visualization files:")
for key in proteins.keys():
    output_file = f"{key}_af3_vs_md_cones.cxc"
    if os.path.exists(output_file):
        print(f"  ✓ {output_file}")
    else:
        print(f"  ❌ {output_file} (failed)")

print(f"\n🚀 Usage: open <protein>_af3_vs_md_cones.cxc in ChimeraX")
